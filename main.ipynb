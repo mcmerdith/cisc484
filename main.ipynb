{
 "cells": [
  {
   "cell_type": "code",
   "execution_count": 6,
   "id": "f56b7a97",
   "metadata": {},
   "outputs": [],
   "source": [
    "import os\n",
    "import datetime\n",
    "import pickle\n",
    "import numpy as np\n",
    "from sklearn.model_selection import train_test_split\n",
    "from sklearn.preprocessing import MinMaxScaler\n",
    "from sklearn.svm import SVC\n",
    "import pickle"
   ]
  },
  {
   "cell_type": "code",
   "execution_count": 7,
   "id": "a76dd693",
   "metadata": {},
   "outputs": [],
   "source": [
    "start_date = \"20201117\"\n",
    "end_date = \"20210520\"\n",
    "start_date_datetime = datetime.datetime.strptime(start_date, \"%Y%m%d\")\n",
    "end_date_datetime = datetime.datetime.strptime(end_date, \"%Y%m%d\")\n",
    "proc_date = start_date_datetime\n",
    "duration = 300  # t\n",
    "\n",
    "data_check_list = os.listdir(\"Data/\")\n",
    "data_check_dic = {i: 1 for i in data_check_list}\n",
    "\n",
    "\n",
    "dataset_X = []\n",
    "dataset_y = []\n",
    "\n",
    "for _ in range(duration):\n",
    "    # process the data in this date\n",
    "    proc_date_str = proc_date.strftime(\"%Y-%m-%d\")\n",
    "\n",
    "    input_data_tmp_path = \"Tmp/\" + proc_date_str + \"/\"\n",
    "    input_data_label_path = \"Label/\" + proc_date_str + \"/\"\n",
    "    output_data_folder_path = \"Label/All/\"\n",
    "    output_model_folder_path = \"Model/\"\n",
    "\n",
    "    if not proc_date_str in data_check_dic.keys():\n",
    "        proc_date = proc_date + datetime.timedelta(days=1)\n",
    "        if proc_date == end_date_datetime:\n",
    "            break\n",
    "        continue\n",
    "\n",
    "    if not os.path.exists(output_data_folder_path):\n",
    "        os.makedirs(output_data_folder_path)\n",
    "\n",
    "    if not os.path.exists(output_model_folder_path):\n",
    "        os.makedirs(output_model_folder_path)\n",
    "\n",
    "    input_data_feature = input_data_tmp_path + \"tweet_feature\"\n",
    "    input_data_label = input_data_label_path + \"labeled_tweets.txt\"\n",
    "\n",
    "    label_dic = {}\n",
    "\n",
    "    with open(\n",
    "        input_data_label, \"r\", encoding=\"utf-8\", errors=\"ignore\"\n",
    "    ) as file_label_in:\n",
    "        for label_line in file_label_in:\n",
    "            label_line_split = label_line.strip().split(\"\\t\")\n",
    "            label_tweet_id = label_line_split[0]\n",
    "            label_dic[label_tweet_id] = int(label_line_split[-1])\n",
    "\n",
    "    with open(\n",
    "        input_data_feature, \"r\", encoding=\"utf-8\", errors=\"ignore\"\n",
    "    ) as file_feature_in:\n",
    "        for feature_line in file_feature_in:\n",
    "            feature_line_split = feature_line.strip().split(\"\\t\")\n",
    "            feature_tweet_id = feature_line_split[0]\n",
    "            if feature_tweet_id in label_dic.keys():\n",
    "                dataset_X.append([float(i) for i in feature_line_split[2:-1]])\n",
    "                dataset_y.append(label_dic[feature_tweet_id])\n",
    "    #     print(label_dic)\n",
    "\n",
    "    proc_date = proc_date + datetime.timedelta(days=1)\n",
    "    if proc_date == end_date_datetime:\n",
    "        break"
   ]
  },
  {
   "cell_type": "code",
   "execution_count": 8,
   "id": "a6706448",
   "metadata": {},
   "outputs": [],
   "source": [
    "# Split data\n",
    "dataset_X = np.array(dataset_X)\n",
    "dataset_y = np.array(dataset_y)\n",
    "\n",
    "scaler = MinMaxScaler()\n",
    "dataset_X = scaler.fit_transform(dataset_X)\n",
    "\n",
    "data_train, data_test, labels_train, labels_test = train_test_split(\n",
    "    dataset_X, dataset_y, test_size=0.20, random_state=42\n",
    ")"
   ]
  },
  {
   "cell_type": "code",
   "execution_count": 9,
   "id": "0970180d",
   "metadata": {},
   "outputs": [
    {
     "name": "stdout",
     "output_type": "stream",
     "text": [
      "Training accuracy: 0.7392241379310345\n",
      "Test accuracy: 0.7392241379310345\n"
     ]
    }
   ],
   "source": [
    "# Initialize the SVM classifier\n",
    "model = SVC()\n",
    "\n",
    "# Fit the classifier to your data\n",
    "model.fit(data_train, labels_train)\n",
    "\n",
    "# Calculate and print the training accuracy\n",
    "train_accuracy = model.score(data_train, labels_train)\n",
    "print(\"Training accuracy:\", train_accuracy)\n",
    "\n",
    "# Calculate test accuracy\n",
    "test_accuracy = model.score(data_test, labels_test)\n",
    "print(\"Test accuracy:\", train_accuracy)\n",
    "\n",
    "# Save the trained SVM model\n",
    "save_model_path = output_model_folder_path + \"svm_model.p\"\n",
    "pickle.dump(model, open(save_model_path, \"wb\"))\n",
    "\n",
    "# Save the dataset\n",
    "save_data_path = output_data_folder_path + \"dataset.p\"\n",
    "pickle.dump([data_train, labels_train], open(save_data_path, \"wb\"))"
   ]
  },
  {
   "cell_type": "code",
   "execution_count": 10,
   "id": "75d2c015",
   "metadata": {},
   "outputs": [
    {
     "name": "stdout",
     "output_type": "stream",
     "text": [
      "0.7948717948717948\n"
     ]
    }
   ],
   "source": [
    "output_data_folder_path = \"Label/All/\"\n",
    "output_model_folder_path = \"Model/\"\n",
    "\n",
    "load_model_path = output_model_folder_path + \"svm_model.p\"\n",
    "loaded_model = pickle.load(open(load_model_path, \"rb\"))\n",
    "\n",
    "load_data_path = output_data_folder_path + \"dataset.p\"\n",
    "dataset_X, dataset_y = pickle.load(open(load_data_path, \"rb\"))\n",
    "\n",
    "result = loaded_model.score(data_test, labels_test)\n",
    "\n",
    "print(result)"
   ]
  }
 ],
 "metadata": {
  "kernelspec": {
   "display_name": "cisc484",
   "language": "python",
   "name": "python3"
  },
  "language_info": {
   "codemirror_mode": {
    "name": "ipython",
    "version": 3
   },
   "file_extension": ".py",
   "mimetype": "text/x-python",
   "name": "python",
   "nbconvert_exporter": "python",
   "pygments_lexer": "ipython3",
   "version": "3.12.4"
  }
 },
 "nbformat": 4,
 "nbformat_minor": 5
}
