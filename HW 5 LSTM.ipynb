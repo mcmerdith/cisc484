{
 "cells": [
  {
   "cell_type": "markdown",
   "metadata": {},
   "source": [
    "### Install following packages\n",
    "\n",
    "- yfinance\n",
    "- tensorflow\n",
    "- keras\n",
    "\n",
    "If they don't show up, add conda-forge in the channel."
   ]
  },
  {
   "cell_type": "code",
   "execution_count": 11,
   "metadata": {
    "colab": {
     "base_uri": "https://localhost:8080/",
     "height": 1000
    },
    "executionInfo": {
     "elapsed": 234119,
     "status": "ok",
     "timestamp": 1715144081322,
     "user": {
      "displayName": "Rifat Sadik",
      "userId": "11766626896007911523"
     },
     "user_tz": 240
    },
    "id": "QWQ1zR-bgOxG",
    "outputId": "6a935116-baa4-4688-bc58-a3aa729c96d0"
   },
   "outputs": [],
   "source": [
    "import yfinance as yf\n",
    "import numpy as np\n",
    "import pandas as pd\n",
    "import matplotlib.pyplot as plt\n",
    "# from tensorflow import keras\n",
    "from keras.models import Sequential\n",
    "from keras.layers import LSTM, Dense, Dropout\n",
    "from sklearn.preprocessing import MinMaxScaler\n",
    "from sklearn.model_selection import train_test_split\n",
    "# from keras import backend as K\n",
    "\n",
    "import tensorflow as tf\n"
   ]
  },
  {
   "cell_type": "code",
   "execution_count": 12,
   "metadata": {},
   "outputs": [],
   "source": [
    "def rmse(y_true, y_pred):\n",
    "    return tf.sqrt(tf.reduce_mean(tf.square(y_pred - y_true)))\n"
   ]
  },
  {
   "cell_type": "code",
   "execution_count": null,
   "metadata": {},
   "outputs": [
    {
     "name": "stderr",
     "output_type": "stream",
     "text": [
      "[*********************100%***********************]  1 of 1 completed"
     ]
    }
   ],
   "source": [
    "# Download stock data for Apple from Yahoo Finance for the specified date range.\n",
    "data = yf.download('AAPL', start='2010-01-01', end='2020-01-01')\n",
    "data = data[['Close']]  # We will predict the closing price\n",
    "data['Close'].plot(title='Apple Stock Prices')\n",
    "plt.show()"
   ]
  },
  {
   "cell_type": "code",
   "execution_count": null,
   "metadata": {},
   "outputs": [
    {
     "data": {
      "text/plain": [
       "2516"
      ]
     },
     "execution_count": 4,
     "metadata": {},
     "output_type": "execute_result"
    }
   ],
   "source": [
    "data.values.size"
   ]
  },
  {
   "cell_type": "code",
   "execution_count": null,
   "metadata": {},
   "outputs": [],
   "source": [
    "# Normalize the data\n",
    "# Normalize the data to a range of 0 to 1 for better performance of neural networks.\n",
    "\n",
    "scaler = MinMaxScaler(feature_range=(0, 1))\n",
    "scaled_data = scaler.fit_transform(data.values)\n",
    "\n",
    "\n",
    "# Function to create datasets for training and testing.\n",
    "# This function segments the data into features (X) and target (Y) with a specified number of time steps.\n",
    "# Create data in 60 timesteps and convert into array\n",
    "\n",
    "def create_dataset(dataset, time_step=60):\n",
    "    X, Y = [], []\n",
    "    for i in range(len(dataset) - time_step - 1):\n",
    "        a = dataset[i:(i + time_step), 0]\n",
    "        X.append(a)\n",
    "        Y.append(dataset[i + time_step, 0])\n",
    "    return np.array(X), np.array(Y)\n",
    "\n",
    "X, y = create_dataset(scaled_data)\n",
    "X_train, X_test, y_train, y_test = train_test_split(X, y, test_size=0.2, random_state=0)\n",
    "\n",
    "# Reshape input to be [samples, time steps, features] which is required for LSTM models.\n",
    "X_train = X_train.reshape(X_train.shape[0], X_train.shape[1], 1)\n",
    "X_test = X_test.reshape(X_test.shape[0], X_test.shape[1], 1)\n"
   ]
  },
  {
   "cell_type": "code",
   "execution_count": null,
   "metadata": {},
   "outputs": [
    {
     "name": "stderr",
     "output_type": "stream",
     "text": [
      "WARNING: All log messages before absl::InitializeLog() is called are written to STDERR\n",
      "I0000 00:00:1734126122.108491  138051 cuda_executor.cc:1001] could not open file to read NUMA node: /sys/bus/pci/devices/0000:0a:00.0/numa_node\n",
      "Your kernel may have been built without NUMA support.\n",
      "I0000 00:00:1734126122.596316  138051 cuda_executor.cc:1001] could not open file to read NUMA node: /sys/bus/pci/devices/0000:0a:00.0/numa_node\n",
      "Your kernel may have been built without NUMA support.\n",
      "I0000 00:00:1734126122.596433  138051 cuda_executor.cc:1001] could not open file to read NUMA node: /sys/bus/pci/devices/0000:0a:00.0/numa_node\n",
      "Your kernel may have been built without NUMA support.\n",
      "I0000 00:00:1734126122.599303  138051 cuda_executor.cc:1001] could not open file to read NUMA node: /sys/bus/pci/devices/0000:0a:00.0/numa_node\n",
      "Your kernel may have been built without NUMA support.\n",
      "I0000 00:00:1734126122.599399  138051 cuda_executor.cc:1001] could not open file to read NUMA node: /sys/bus/pci/devices/0000:0a:00.0/numa_node\n",
      "Your kernel may have been built without NUMA support.\n",
      "I0000 00:00:1734126122.599477  138051 cuda_executor.cc:1001] could not open file to read NUMA node: /sys/bus/pci/devices/0000:0a:00.0/numa_node\n",
      "Your kernel may have been built without NUMA support.\n",
      "I0000 00:00:1734126122.745840  138051 cuda_executor.cc:1001] could not open file to read NUMA node: /sys/bus/pci/devices/0000:0a:00.0/numa_node\n",
      "Your kernel may have been built without NUMA support.\n",
      "I0000 00:00:1734126122.745967  138051 cuda_executor.cc:1001] could not open file to read NUMA node: /sys/bus/pci/devices/0000:0a:00.0/numa_node\n",
      "Your kernel may have been built without NUMA support.\n",
      "2024-12-13 16:42:02.745981: I tensorflow/core/common_runtime/gpu/gpu_device.cc:2112] Could not identify NUMA node of platform GPU id 0, defaulting to 0.  Your kernel may not have been built with NUMA support.\n",
      "I0000 00:00:1734126122.746083  138051 cuda_executor.cc:1001] could not open file to read NUMA node: /sys/bus/pci/devices/0000:0a:00.0/numa_node\n",
      "Your kernel may have been built without NUMA support.\n",
      "2024-12-13 16:42:02.746114: I tensorflow/core/common_runtime/gpu/gpu_device.cc:2021] Created device /job:localhost/replica:0/task:0/device:GPU:0 with 21770 MB memory:  -> device: 0, name: NVIDIA GeForce RTX 3090, pci bus id: 0000:0a:00.0, compute capability: 8.6\n",
      "/home/mcmerdith/anaconda3/envs/cisc484/lib/python3.12/site-packages/keras/src/layers/rnn/rnn.py:204: UserWarning: Do not pass an `input_shape`/`input_dim` argument to a layer. When using Sequential models, prefer using an `Input(shape)` object as the first layer in the model instead.\n",
      "  super().__init__(**kwargs)\n"
     ]
    },
    {
     "name": "stdout",
     "output_type": "stream",
     "text": [
      "Epoch 1/50\n"
     ]
    },
    {
     "name": "stderr",
     "output_type": "stream",
     "text": [
      "2024-12-13 16:42:10.727297: I external/local_xla/xla/stream_executor/cuda/cuda_dnn.cc:531] Loaded cuDNN version 90101\n"
     ]
    },
    {
     "name": "stdout",
     "output_type": "stream",
     "text": [
      "\u001b[1m31/31\u001b[0m \u001b[32m━━━━━━━━━━━━━━━━━━━━\u001b[0m\u001b[37m\u001b[0m \u001b[1m8s\u001b[0m 50ms/step - loss: 0.0458 - mean_absolute_error: 0.1504 - mean_squared_error: 0.0458 - rmse: 0.2921 - val_loss: 0.0112 - val_mean_absolute_error: 0.0832 - val_mean_squared_error: 0.0112 - val_rmse: 0.2582\n",
      "Epoch 2/50\n",
      "\u001b[1m31/31\u001b[0m \u001b[32m━━━━━━━━━━━━━━━━━━━━\u001b[0m\u001b[37m\u001b[0m \u001b[1m1s\u001b[0m 28ms/step - loss: 0.0084 - mean_absolute_error: 0.0720 - mean_squared_error: 0.0084 - rmse: 0.2841 - val_loss: 0.0024 - val_mean_absolute_error: 0.0402 - val_mean_squared_error: 0.0024 - val_rmse: 0.2943\n",
      "Epoch 3/50\n",
      "\u001b[1m31/31\u001b[0m \u001b[32m━━━━━━━━━━━━━━━━━━━━\u001b[0m\u001b[37m\u001b[0m \u001b[1m1s\u001b[0m 29ms/step - loss: 0.0031 - mean_absolute_error: 0.0427 - mean_squared_error: 0.0031 - rmse: 0.2872 - val_loss: 0.0012 - val_mean_absolute_error: 0.0291 - val_mean_squared_error: 0.0012 - val_rmse: 0.2931\n",
      "Epoch 4/50\n",
      "\u001b[1m31/31\u001b[0m \u001b[32m━━━━━━━━━━━━━━━━━━━━\u001b[0m\u001b[37m\u001b[0m \u001b[1m1s\u001b[0m 29ms/step - loss: 0.0020 - mean_absolute_error: 0.0363 - mean_squared_error: 0.0020 - rmse: 0.2933 - val_loss: 0.0019 - val_mean_absolute_error: 0.0369 - val_mean_squared_error: 0.0019 - val_rmse: 0.2685\n",
      "Epoch 5/50\n",
      "\u001b[1m31/31\u001b[0m \u001b[32m━━━━━━━━━━━━━━━━━━━━\u001b[0m\u001b[37m\u001b[0m \u001b[1m1s\u001b[0m 29ms/step - loss: 0.0020 - mean_absolute_error: 0.0367 - mean_squared_error: 0.0020 - rmse: 0.2886 - val_loss: 0.0015 - val_mean_absolute_error: 0.0333 - val_mean_squared_error: 0.0015 - val_rmse: 0.2787\n",
      "Epoch 6/50\n",
      "\u001b[1m31/31\u001b[0m \u001b[32m━━━━━━━━━━━━━━━━━━━━\u001b[0m\u001b[37m\u001b[0m \u001b[1m1s\u001b[0m 29ms/step - loss: 0.0015 - mean_absolute_error: 0.0324 - mean_squared_error: 0.0015 - rmse: 0.2827 - val_loss: 0.0011 - val_mean_absolute_error: 0.0230 - val_mean_squared_error: 0.0011 - val_rmse: 0.3015\n",
      "Epoch 7/50\n",
      "\u001b[1m31/31\u001b[0m \u001b[32m━━━━━━━━━━━━━━━━━━━━\u001b[0m\u001b[37m\u001b[0m \u001b[1m1s\u001b[0m 27ms/step - loss: 0.0013 - mean_absolute_error: 0.0292 - mean_squared_error: 0.0013 - rmse: 0.2975 - val_loss: 8.3001e-04 - val_mean_absolute_error: 0.0244 - val_mean_squared_error: 8.3001e-04 - val_rmse: 0.2785\n",
      "Epoch 8/50\n",
      "\u001b[1m31/31\u001b[0m \u001b[32m━━━━━━━━━━━━━━━━━━━━\u001b[0m\u001b[37m\u001b[0m \u001b[1m1s\u001b[0m 29ms/step - loss: 0.0012 - mean_absolute_error: 0.0294 - mean_squared_error: 0.0012 - rmse: 0.2898 - val_loss: 0.0010 - val_mean_absolute_error: 0.0264 - val_mean_squared_error: 0.0010 - val_rmse: 0.2761\n",
      "Epoch 9/50\n",
      "\u001b[1m31/31\u001b[0m \u001b[32m━━━━━━━━━━━━━━━━━━━━\u001b[0m\u001b[37m\u001b[0m \u001b[1m1s\u001b[0m 29ms/step - loss: 0.0011 - mean_absolute_error: 0.0272 - mean_squared_error: 0.0011 - rmse: 0.2930 - val_loss: 7.6089e-04 - val_mean_absolute_error: 0.0233 - val_mean_squared_error: 7.6089e-04 - val_rmse: 0.2787\n",
      "Epoch 10/50\n",
      "\u001b[1m31/31\u001b[0m \u001b[32m━━━━━━━━━━━━━━━━━━━━\u001b[0m\u001b[37m\u001b[0m \u001b[1m1s\u001b[0m 29ms/step - loss: 8.8200e-04 - mean_absolute_error: 0.0247 - mean_squared_error: 8.8200e-04 - rmse: 0.2944 - val_loss: 5.7274e-04 - val_mean_absolute_error: 0.0210 - val_mean_squared_error: 5.7274e-04 - val_rmse: 0.2879\n",
      "Epoch 11/50\n",
      "\u001b[1m31/31\u001b[0m \u001b[32m━━━━━━━━━━━━━━━━━━━━\u001b[0m\u001b[37m\u001b[0m \u001b[1m1s\u001b[0m 29ms/step - loss: 7.9513e-04 - mean_absolute_error: 0.0237 - mean_squared_error: 7.9513e-04 - rmse: 0.2856 - val_loss: 8.6181e-04 - val_mean_absolute_error: 0.0218 - val_mean_squared_error: 8.6181e-04 - val_rmse: 0.2733\n",
      "Epoch 12/50\n",
      "\u001b[1m31/31\u001b[0m \u001b[32m━━━━━━━━━━━━━━━━━━━━\u001b[0m\u001b[37m\u001b[0m \u001b[1m1s\u001b[0m 30ms/step - loss: 6.8872e-04 - mean_absolute_error: 0.0213 - mean_squared_error: 6.8872e-04 - rmse: 0.2907 - val_loss: 5.0849e-04 - val_mean_absolute_error: 0.0187 - val_mean_squared_error: 5.0849e-04 - val_rmse: 0.2801\n",
      "Epoch 13/50\n",
      "\u001b[1m31/31\u001b[0m \u001b[32m━━━━━━━━━━━━━━━━━━━━\u001b[0m\u001b[37m\u001b[0m \u001b[1m1s\u001b[0m 27ms/step - loss: 6.6536e-04 - mean_absolute_error: 0.0210 - mean_squared_error: 6.6536e-04 - rmse: 0.2900 - val_loss: 5.5661e-04 - val_mean_absolute_error: 0.0217 - val_mean_squared_error: 5.5661e-04 - val_rmse: 0.2843\n",
      "Epoch 14/50\n",
      "\u001b[1m31/31\u001b[0m \u001b[32m━━━━━━━━━━━━━━━━━━━━\u001b[0m\u001b[37m\u001b[0m \u001b[1m1s\u001b[0m 30ms/step - loss: 6.3357e-04 - mean_absolute_error: 0.0212 - mean_squared_error: 6.3357e-04 - rmse: 0.2850 - val_loss: 4.8562e-04 - val_mean_absolute_error: 0.0195 - val_mean_squared_error: 4.8562e-04 - val_rmse: 0.2871\n",
      "Epoch 15/50\n",
      "\u001b[1m31/31\u001b[0m \u001b[32m━━━━━━━━━━━━━━━━━━━━\u001b[0m\u001b[37m\u001b[0m \u001b[1m1s\u001b[0m 32ms/step - loss: 6.1509e-04 - mean_absolute_error: 0.0207 - mean_squared_error: 6.1509e-04 - rmse: 0.2937 - val_loss: 4.3094e-04 - val_mean_absolute_error: 0.0190 - val_mean_squared_error: 4.3094e-04 - val_rmse: 0.2838\n",
      "Epoch 16/50\n",
      "\u001b[1m31/31\u001b[0m \u001b[32m━━━━━━━━━━━━━━━━━━━━\u001b[0m\u001b[37m\u001b[0m \u001b[1m1s\u001b[0m 29ms/step - loss: 5.9631e-04 - mean_absolute_error: 0.0203 - mean_squared_error: 5.9631e-04 - rmse: 0.2917 - val_loss: 4.3437e-04 - val_mean_absolute_error: 0.0175 - val_mean_squared_error: 4.3437e-04 - val_rmse: 0.2889\n",
      "Epoch 17/50\n",
      "\u001b[1m31/31\u001b[0m \u001b[32m━━━━━━━━━━━━━━━━━━━━\u001b[0m\u001b[37m\u001b[0m \u001b[1m1s\u001b[0m 28ms/step - loss: 5.4031e-04 - mean_absolute_error: 0.0193 - mean_squared_error: 5.4031e-04 - rmse: 0.2894 - val_loss: 4.1927e-04 - val_mean_absolute_error: 0.0189 - val_mean_squared_error: 4.1927e-04 - val_rmse: 0.2853\n",
      "Epoch 18/50\n",
      "\u001b[1m31/31\u001b[0m \u001b[32m━━━━━━━━━━━━━━━━━━━━\u001b[0m\u001b[37m\u001b[0m \u001b[1m1s\u001b[0m 28ms/step - loss: 5.5779e-04 - mean_absolute_error: 0.0197 - mean_squared_error: 5.5779e-04 - rmse: 0.2935 - val_loss: 3.4488e-04 - val_mean_absolute_error: 0.0170 - val_mean_squared_error: 3.4488e-04 - val_rmse: 0.2840\n",
      "Epoch 19/50\n",
      "\u001b[1m31/31\u001b[0m \u001b[32m━━━━━━━━━━━━━━━━━━━━\u001b[0m\u001b[37m\u001b[0m \u001b[1m1s\u001b[0m 31ms/step - loss: 4.6523e-04 - mean_absolute_error: 0.0183 - mean_squared_error: 4.6523e-04 - rmse: 0.2867 - val_loss: 3.0649e-04 - val_mean_absolute_error: 0.0138 - val_mean_squared_error: 3.0649e-04 - val_rmse: 0.2797\n",
      "Epoch 20/50\n",
      "\u001b[1m31/31\u001b[0m \u001b[32m━━━━━━━━━━━━━━━━━━━━\u001b[0m\u001b[37m\u001b[0m \u001b[1m1s\u001b[0m 29ms/step - loss: 4.7290e-04 - mean_absolute_error: 0.0174 - mean_squared_error: 4.7290e-04 - rmse: 0.2881 - val_loss: 3.7188e-04 - val_mean_absolute_error: 0.0176 - val_mean_squared_error: 3.7188e-04 - val_rmse: 0.2838\n",
      "Epoch 21/50\n",
      "\u001b[1m31/31\u001b[0m \u001b[32m━━━━━━━━━━━━━━━━━━━━\u001b[0m\u001b[37m\u001b[0m \u001b[1m1s\u001b[0m 28ms/step - loss: 4.5315e-04 - mean_absolute_error: 0.0174 - mean_squared_error: 4.5315e-04 - rmse: 0.2919 - val_loss: 5.2765e-04 - val_mean_absolute_error: 0.0204 - val_mean_squared_error: 5.2765e-04 - val_rmse: 0.2917\n",
      "Epoch 22/50\n",
      "\u001b[1m31/31\u001b[0m \u001b[32m━━━━━━━━━━━━━━━━━━━━\u001b[0m\u001b[37m\u001b[0m \u001b[1m1s\u001b[0m 32ms/step - loss: 5.1438e-04 - mean_absolute_error: 0.0183 - mean_squared_error: 5.1438e-04 - rmse: 0.2918 - val_loss: 3.5320e-04 - val_mean_absolute_error: 0.0167 - val_mean_squared_error: 3.5320e-04 - val_rmse: 0.2867\n",
      "Epoch 23/50\n",
      "\u001b[1m31/31\u001b[0m \u001b[32m━━━━━━━━━━━━━━━━━━━━\u001b[0m\u001b[37m\u001b[0m \u001b[1m1s\u001b[0m 28ms/step - loss: 5.4288e-04 - mean_absolute_error: 0.0170 - mean_squared_error: 5.4288e-04 - rmse: 0.2843 - val_loss: 3.5340e-04 - val_mean_absolute_error: 0.0168 - val_mean_squared_error: 3.5340e-04 - val_rmse: 0.2838\n",
      "Epoch 24/50\n",
      "\u001b[1m31/31\u001b[0m \u001b[32m━━━━━━━━━━━━━━━━━━━━\u001b[0m\u001b[37m\u001b[0m \u001b[1m1s\u001b[0m 31ms/step - loss: 4.2543e-04 - mean_absolute_error: 0.0169 - mean_squared_error: 4.2543e-04 - rmse: 0.2840 - val_loss: 3.9152e-04 - val_mean_absolute_error: 0.0172 - val_mean_squared_error: 3.9152e-04 - val_rmse: 0.2807\n",
      "Epoch 25/50\n",
      "\u001b[1m31/31\u001b[0m \u001b[32m━━━━━━━━━━━━━━━━━━━━\u001b[0m\u001b[37m\u001b[0m \u001b[1m1s\u001b[0m 28ms/step - loss: 4.9290e-04 - mean_absolute_error: 0.0180 - mean_squared_error: 4.9290e-04 - rmse: 0.2969 - val_loss: 3.9520e-04 - val_mean_absolute_error: 0.0172 - val_mean_squared_error: 3.9520e-04 - val_rmse: 0.2886\n",
      "Epoch 26/50\n",
      "\u001b[1m31/31\u001b[0m \u001b[32m━━━━━━━━━━━━━━━━━━━━\u001b[0m\u001b[37m\u001b[0m \u001b[1m1s\u001b[0m 30ms/step - loss: 4.5206e-04 - mean_absolute_error: 0.0171 - mean_squared_error: 4.5206e-04 - rmse: 0.2877 - val_loss: 4.2481e-04 - val_mean_absolute_error: 0.0180 - val_mean_squared_error: 4.2481e-04 - val_rmse: 0.2808\n",
      "Epoch 27/50\n",
      "\u001b[1m31/31\u001b[0m \u001b[32m━━━━━━━━━━━━━━━━━━━━\u001b[0m\u001b[37m\u001b[0m \u001b[1m1s\u001b[0m 28ms/step - loss: 5.0519e-04 - mean_absolute_error: 0.0181 - mean_squared_error: 5.0519e-04 - rmse: 0.3001 - val_loss: 3.2410e-04 - val_mean_absolute_error: 0.0163 - val_mean_squared_error: 3.2410e-04 - val_rmse: 0.2847\n",
      "Epoch 28/50\n",
      "\u001b[1m31/31\u001b[0m \u001b[32m━━━━━━━━━━━━━━━━━━━━\u001b[0m\u001b[37m\u001b[0m \u001b[1m1s\u001b[0m 30ms/step - loss: 4.0533e-04 - mean_absolute_error: 0.0162 - mean_squared_error: 4.0533e-04 - rmse: 0.2943 - val_loss: 2.7423e-04 - val_mean_absolute_error: 0.0137 - val_mean_squared_error: 2.7423e-04 - val_rmse: 0.2805\n",
      "Epoch 29/50\n",
      "\u001b[1m31/31\u001b[0m \u001b[32m━━━━━━━━━━━━━━━━━━━━\u001b[0m\u001b[37m\u001b[0m \u001b[1m1s\u001b[0m 45ms/step - loss: 3.7672e-04 - mean_absolute_error: 0.0159 - mean_squared_error: 3.7672e-04 - rmse: 0.2846 - val_loss: 3.0724e-04 - val_mean_absolute_error: 0.0148 - val_mean_squared_error: 3.0724e-04 - val_rmse: 0.2889\n",
      "Epoch 30/50\n",
      "\u001b[1m31/31\u001b[0m \u001b[32m━━━━━━━━━━━━━━━━━━━━\u001b[0m\u001b[37m\u001b[0m \u001b[1m1s\u001b[0m 31ms/step - loss: 4.2493e-04 - mean_absolute_error: 0.0163 - mean_squared_error: 4.2493e-04 - rmse: 0.3024 - val_loss: 2.5320e-04 - val_mean_absolute_error: 0.0140 - val_mean_squared_error: 2.5320e-04 - val_rmse: 0.2826\n",
      "Epoch 31/50\n",
      "\u001b[1m31/31\u001b[0m \u001b[32m━━━━━━━━━━━━━━━━━━━━\u001b[0m\u001b[37m\u001b[0m \u001b[1m1s\u001b[0m 32ms/step - loss: 3.4918e-04 - mean_absolute_error: 0.0157 - mean_squared_error: 3.4918e-04 - rmse: 0.2884 - val_loss: 2.5750e-04 - val_mean_absolute_error: 0.0147 - val_mean_squared_error: 2.5750e-04 - val_rmse: 0.2828\n",
      "Epoch 32/50\n",
      "\u001b[1m31/31\u001b[0m \u001b[32m━━━━━━━━━━━━━━━━━━━━\u001b[0m\u001b[37m\u001b[0m \u001b[1m1s\u001b[0m 31ms/step - loss: 3.7515e-04 - mean_absolute_error: 0.0160 - mean_squared_error: 3.7515e-04 - rmse: 0.2926 - val_loss: 2.6207e-04 - val_mean_absolute_error: 0.0141 - val_mean_squared_error: 2.6207e-04 - val_rmse: 0.2827\n",
      "Epoch 33/50\n",
      "\u001b[1m31/31\u001b[0m \u001b[32m━━━━━━━━━━━━━━━━━━━━\u001b[0m\u001b[37m\u001b[0m \u001b[1m1s\u001b[0m 29ms/step - loss: 3.7260e-04 - mean_absolute_error: 0.0159 - mean_squared_error: 3.7260e-04 - rmse: 0.2893 - val_loss: 3.0092e-04 - val_mean_absolute_error: 0.0156 - val_mean_squared_error: 3.0092e-04 - val_rmse: 0.2859\n",
      "Epoch 34/50\n",
      "\u001b[1m31/31\u001b[0m \u001b[32m━━━━━━━━━━━━━━━━━━━━\u001b[0m\u001b[37m\u001b[0m \u001b[1m1s\u001b[0m 31ms/step - loss: 3.6002e-04 - mean_absolute_error: 0.0158 - mean_squared_error: 3.6002e-04 - rmse: 0.2937 - val_loss: 2.8538e-04 - val_mean_absolute_error: 0.0150 - val_mean_squared_error: 2.8538e-04 - val_rmse: 0.2832\n",
      "Epoch 35/50\n",
      "\u001b[1m31/31\u001b[0m \u001b[32m━━━━━━━━━━━━━━━━━━━━\u001b[0m\u001b[37m\u001b[0m \u001b[1m1s\u001b[0m 28ms/step - loss: 3.5043e-04 - mean_absolute_error: 0.0148 - mean_squared_error: 3.5043e-04 - rmse: 0.2908 - val_loss: 2.5904e-04 - val_mean_absolute_error: 0.0143 - val_mean_squared_error: 2.5904e-04 - val_rmse: 0.2856\n",
      "Epoch 36/50\n",
      "\u001b[1m31/31\u001b[0m \u001b[32m━━━━━━━━━━━━━━━━━━━━\u001b[0m\u001b[37m\u001b[0m \u001b[1m1s\u001b[0m 32ms/step - loss: 3.6641e-04 - mean_absolute_error: 0.0149 - mean_squared_error: 3.6641e-04 - rmse: 0.3003 - val_loss: 3.0599e-04 - val_mean_absolute_error: 0.0152 - val_mean_squared_error: 3.0599e-04 - val_rmse: 0.2787\n",
      "Epoch 37/50\n",
      "\u001b[1m31/31\u001b[0m \u001b[32m━━━━━━━━━━━━━━━━━━━━\u001b[0m\u001b[37m\u001b[0m \u001b[1m1s\u001b[0m 28ms/step - loss: 4.4436e-04 - mean_absolute_error: 0.0170 - mean_squared_error: 4.4436e-04 - rmse: 0.2933 - val_loss: 3.7931e-04 - val_mean_absolute_error: 0.0167 - val_mean_squared_error: 3.7931e-04 - val_rmse: 0.2813\n",
      "Epoch 38/50\n",
      "\u001b[1m31/31\u001b[0m \u001b[32m━━━━━━━━━━━━━━━━━━━━\u001b[0m\u001b[37m\u001b[0m \u001b[1m1s\u001b[0m 31ms/step - loss: 4.9554e-04 - mean_absolute_error: 0.0182 - mean_squared_error: 4.9554e-04 - rmse: 0.2920 - val_loss: 4.4954e-04 - val_mean_absolute_error: 0.0197 - val_mean_squared_error: 4.4954e-04 - val_rmse: 0.2831\n",
      "Epoch 39/50\n",
      "\u001b[1m31/31\u001b[0m \u001b[32m━━━━━━━━━━━━━━━━━━━━\u001b[0m\u001b[37m\u001b[0m \u001b[1m1s\u001b[0m 29ms/step - loss: 5.1990e-04 - mean_absolute_error: 0.0194 - mean_squared_error: 5.1990e-04 - rmse: 0.2963 - val_loss: 3.6401e-04 - val_mean_absolute_error: 0.0174 - val_mean_squared_error: 3.6401e-04 - val_rmse: 0.2836\n",
      "Epoch 40/50\n",
      "\u001b[1m31/31\u001b[0m \u001b[32m━━━━━━━━━━━━━━━━━━━━\u001b[0m\u001b[37m\u001b[0m \u001b[1m1s\u001b[0m 30ms/step - loss: 4.6264e-04 - mean_absolute_error: 0.0182 - mean_squared_error: 4.6264e-04 - rmse: 0.2910 - val_loss: 3.7776e-04 - val_mean_absolute_error: 0.0178 - val_mean_squared_error: 3.7776e-04 - val_rmse: 0.2829\n",
      "Epoch 41/50\n",
      "\u001b[1m31/31\u001b[0m \u001b[32m━━━━━━━━━━━━━━━━━━━━\u001b[0m\u001b[37m\u001b[0m \u001b[1m1s\u001b[0m 30ms/step - loss: 4.4202e-04 - mean_absolute_error: 0.0178 - mean_squared_error: 4.4202e-04 - rmse: 0.2901 - val_loss: 2.8473e-04 - val_mean_absolute_error: 0.0145 - val_mean_squared_error: 2.8473e-04 - val_rmse: 0.2817\n",
      "Epoch 42/50\n",
      "\u001b[1m31/31\u001b[0m \u001b[32m━━━━━━━━━━━━━━━━━━━━\u001b[0m\u001b[37m\u001b[0m \u001b[1m1s\u001b[0m 30ms/step - loss: 4.0743e-04 - mean_absolute_error: 0.0173 - mean_squared_error: 4.0743e-04 - rmse: 0.2933 - val_loss: 3.3431e-04 - val_mean_absolute_error: 0.0168 - val_mean_squared_error: 3.3431e-04 - val_rmse: 0.2822\n",
      "Epoch 43/50\n",
      "\u001b[1m31/31\u001b[0m \u001b[32m━━━━━━━━━━━━━━━━━━━━\u001b[0m\u001b[37m\u001b[0m \u001b[1m1s\u001b[0m 28ms/step - loss: 3.7895e-04 - mean_absolute_error: 0.0163 - mean_squared_error: 3.7895e-04 - rmse: 0.2856 - val_loss: 2.6464e-04 - val_mean_absolute_error: 0.0139 - val_mean_squared_error: 2.6464e-04 - val_rmse: 0.2817\n",
      "Epoch 44/50\n",
      "\u001b[1m31/31\u001b[0m \u001b[32m━━━━━━━━━━━━━━━━━━━━\u001b[0m\u001b[37m\u001b[0m \u001b[1m1s\u001b[0m 30ms/step - loss: 3.6433e-04 - mean_absolute_error: 0.0159 - mean_squared_error: 3.6433e-04 - rmse: 0.2851 - val_loss: 3.2163e-04 - val_mean_absolute_error: 0.0165 - val_mean_squared_error: 3.2163e-04 - val_rmse: 0.2823\n",
      "Epoch 45/50\n",
      "\u001b[1m31/31\u001b[0m \u001b[32m━━━━━━━━━━━━━━━━━━━━\u001b[0m\u001b[37m\u001b[0m \u001b[1m1s\u001b[0m 30ms/step - loss: 3.5412e-04 - mean_absolute_error: 0.0160 - mean_squared_error: 3.5412e-04 - rmse: 0.2895 - val_loss: 2.2169e-04 - val_mean_absolute_error: 0.0119 - val_mean_squared_error: 2.2169e-04 - val_rmse: 0.2807\n",
      "Epoch 46/50\n",
      "\u001b[1m31/31\u001b[0m \u001b[32m━━━━━━━━━━━━━━━━━━━━\u001b[0m\u001b[37m\u001b[0m \u001b[1m1s\u001b[0m 29ms/step - loss: 3.4178e-04 - mean_absolute_error: 0.0153 - mean_squared_error: 3.4178e-04 - rmse: 0.2898 - val_loss: 2.5992e-04 - val_mean_absolute_error: 0.0140 - val_mean_squared_error: 2.5992e-04 - val_rmse: 0.2859\n",
      "Epoch 47/50\n",
      "\u001b[1m31/31\u001b[0m \u001b[32m━━━━━━━━━━━━━━━━━━━━\u001b[0m\u001b[37m\u001b[0m \u001b[1m1s\u001b[0m 28ms/step - loss: 3.3978e-04 - mean_absolute_error: 0.0151 - mean_squared_error: 3.3978e-04 - rmse: 0.2942 - val_loss: 2.0739e-04 - val_mean_absolute_error: 0.0121 - val_mean_squared_error: 2.0739e-04 - val_rmse: 0.2814\n",
      "Epoch 48/50\n",
      "\u001b[1m31/31\u001b[0m \u001b[32m━━━━━━━━━━━━━━━━━━━━\u001b[0m\u001b[37m\u001b[0m \u001b[1m1s\u001b[0m 30ms/step - loss: 3.2411e-04 - mean_absolute_error: 0.0146 - mean_squared_error: 3.2411e-04 - rmse: 0.2940 - val_loss: 2.7526e-04 - val_mean_absolute_error: 0.0149 - val_mean_squared_error: 2.7526e-04 - val_rmse: 0.2832\n",
      "Epoch 49/50\n",
      "\u001b[1m31/31\u001b[0m \u001b[32m━━━━━━━━━━━━━━━━━━━━\u001b[0m\u001b[37m\u001b[0m \u001b[1m1s\u001b[0m 31ms/step - loss: 3.0218e-04 - mean_absolute_error: 0.0146 - mean_squared_error: 3.0218e-04 - rmse: 0.2854 - val_loss: 1.6801e-04 - val_mean_absolute_error: 0.0107 - val_mean_squared_error: 1.6801e-04 - val_rmse: 0.2822\n",
      "Epoch 50/50\n",
      "\u001b[1m31/31\u001b[0m \u001b[32m━━━━━━━━━━━━━━━━━━━━\u001b[0m\u001b[37m\u001b[0m \u001b[1m1s\u001b[0m 29ms/step - loss: 3.0871e-04 - mean_absolute_error: 0.0144 - mean_squared_error: 3.0871e-04 - rmse: 0.2947 - val_loss: 2.5876e-04 - val_mean_absolute_error: 0.0137 - val_mean_squared_error: 2.5876e-04 - val_rmse: 0.2850\n",
      "\u001b[1m62/62\u001b[0m \u001b[32m━━━━━━━━━━━━━━━━━━━━\u001b[0m\u001b[37m\u001b[0m \u001b[1m1s\u001b[0m 12ms/step\n",
      "\u001b[1m16/16\u001b[0m \u001b[32m━━━━━━━━━━━━━━━━━━━━\u001b[0m\u001b[37m\u001b[0m \u001b[1m0s\u001b[0m 8ms/step\n"
     ]
    }
   ],
   "source": [
    "# Build the LSTM model,\n",
    "# Building the LSTM model with two LSTM layers and two Dense layers.\n",
    "\n",
    "# Initializes a linear stack of layers in the model. In a Sequential model, each layer has exact one input tensor and one output tensor.\n",
    "model = Sequential()\n",
    "\n",
    "# This line adds a Long Short-Term Memory (LSTM) layer with 50 units (neurons).\n",
    "model.add(\n",
    "    LSTM(50, return_sequences=True, input_shape=(60, 1))\n",
    ")  # First LSTM layer with 50 units, returns sequences for stacking LSTM layers.\n",
    "\n",
    "# TODO add two additional LSTM layers\n",
    "model.add(\n",
    "    LSTM(50, return_sequences=True, input_shape=(60, 1))\n",
    ")\n",
    "\n",
    "model.add(\n",
    "    LSTM(50, return_sequences=True, input_shape=(60, 1))\n",
    ")\n",
    "\n",
    "# Unlike the first LSTM layer, this parameter setting tells the layer to output only the last step of the sequence.\n",
    "# This is useful when the next layer is a dense layer that expects a single vector input rather than a sequence.\n",
    "model.add(\n",
    "    LSTM(50, return_sequences=False)\n",
    ")  # Second LSTM layer, does not return sequences to flatten output for the dense layer.\n",
    "\n",
    "# TODO add Dropout layers\n",
    "model.add(Dropout(0.1))\n",
    "# TODO add Dense layer with ReLU as activation function\n",
    "model.add(Dense(50, activation=\"relu\"))\n",
    "\n",
    "# This adds a fully connected (dense) layer with 25 neurons.\n",
    "# Dense layers are standard neural network layers where each input is connected to each output by a learnable weight.\n",
    "# This layer will interpret the features learned by the LSTM layers, effectively beginning the process of converting the learned sequences into a final prediction.\n",
    "model.add(Dense(25))  # Dense layer with 25 neurons.\n",
    "\n",
    "# The final layer in the model is another dense layer, but with just one neuron.\n",
    "# This is the output layer, and its purpose is to produce a single continuous output value that predicts the next day's closing price.\n",
    "model.add(Dense(1))  # Output layer with 1 neuron to predict the closing price.\n",
    "\n",
    "# Compile the model,\n",
    "# TODO change to two different optimizers other than Adam\n",
    "# Compile the model using Adam optimizer and mean squared error as the loss function.\n",
    "learn_rate = 0.001\n",
    "# optimizer = tf.keras.optimizers.Adam(learning_rate=learn_rate)\n",
    "optimizer = tf.keras.optimizers.Lion(learning_rate=learn_rate)\n",
    "# optimizer = tf.keras.optimizers.Adafactor(learning_rate=learn_rate)\n",
    "\n",
    "model.compile(\n",
    "    optimizer=optimizer,\n",
    "    loss=\"mean_squared_error\",\n",
    "    metrics=[\"mean_absolute_error\", \"mean_squared_error\", rmse],\n",
    ")\n",
    "\n",
    "# Train the model\n",
    "num_epochs = 10\n",
    "history = model.fit(\n",
    "    X_train,\n",
    "    y_train,\n",
    "    validation_data=(X_test, y_test),\n",
    "    epochs=num_epochs,\n",
    "    batch_size=64,\n",
    "    verbose=1,\n",
    ")\n",
    "\n",
    "# Predicting and inverse transformation to original prices\n",
    "# Predicting and transforming predictions back to original scale.\n",
    "train_predict = model.predict(X_train)\n",
    "test_predict = model.predict(X_test)\n",
    "train_predict = scaler.inverse_transform(train_predict)\n",
    "test_predict = scaler.inverse_transform(test_predict)"
   ]
  },
  {
   "cell_type": "code",
   "execution_count": null,
   "metadata": {},
   "outputs": [
    {
     "data": {
      "text/html": [
       "<pre style=\"white-space:pre;overflow-x:auto;line-height:normal;font-family:Menlo,'DejaVu Sans Mono',consolas,'Courier New',monospace\"><span style=\"font-weight: bold\">Model: \"sequential\"</span>\n",
       "</pre>\n"
      ],
      "text/plain": [
       "\u001b[1mModel: \"sequential\"\u001b[0m\n"
      ]
     },
     "metadata": {},
     "output_type": "display_data"
    },
    {
     "data": {
      "text/html": [
       "<pre style=\"white-space:pre;overflow-x:auto;line-height:normal;font-family:Menlo,'DejaVu Sans Mono',consolas,'Courier New',monospace\">┏━━━━━━━━━━━━━━━━━━━━━━━━━━━━━━━━━┳━━━━━━━━━━━━━━━━━━━━━━━━┳━━━━━━━━━━━━━━━┓\n",
       "┃<span style=\"font-weight: bold\"> Layer (type)                    </span>┃<span style=\"font-weight: bold\"> Output Shape           </span>┃<span style=\"font-weight: bold\">       Param # </span>┃\n",
       "┡━━━━━━━━━━━━━━━━━━━━━━━━━━━━━━━━━╇━━━━━━━━━━━━━━━━━━━━━━━━╇━━━━━━━━━━━━━━━┩\n",
       "│ lstm (<span style=\"color: #0087ff; text-decoration-color: #0087ff\">LSTM</span>)                     │ (<span style=\"color: #00d7ff; text-decoration-color: #00d7ff\">None</span>, <span style=\"color: #00af00; text-decoration-color: #00af00\">60</span>, <span style=\"color: #00af00; text-decoration-color: #00af00\">50</span>)         │        <span style=\"color: #00af00; text-decoration-color: #00af00\">10,400</span> │\n",
       "├─────────────────────────────────┼────────────────────────┼───────────────┤\n",
       "│ lstm_1 (<span style=\"color: #0087ff; text-decoration-color: #0087ff\">LSTM</span>)                   │ (<span style=\"color: #00d7ff; text-decoration-color: #00d7ff\">None</span>, <span style=\"color: #00af00; text-decoration-color: #00af00\">60</span>, <span style=\"color: #00af00; text-decoration-color: #00af00\">50</span>)         │        <span style=\"color: #00af00; text-decoration-color: #00af00\">20,200</span> │\n",
       "├─────────────────────────────────┼────────────────────────┼───────────────┤\n",
       "│ lstm_2 (<span style=\"color: #0087ff; text-decoration-color: #0087ff\">LSTM</span>)                   │ (<span style=\"color: #00d7ff; text-decoration-color: #00d7ff\">None</span>, <span style=\"color: #00af00; text-decoration-color: #00af00\">60</span>, <span style=\"color: #00af00; text-decoration-color: #00af00\">50</span>)         │        <span style=\"color: #00af00; text-decoration-color: #00af00\">20,200</span> │\n",
       "├─────────────────────────────────┼────────────────────────┼───────────────┤\n",
       "│ lstm_3 (<span style=\"color: #0087ff; text-decoration-color: #0087ff\">LSTM</span>)                   │ (<span style=\"color: #00d7ff; text-decoration-color: #00d7ff\">None</span>, <span style=\"color: #00af00; text-decoration-color: #00af00\">50</span>)             │        <span style=\"color: #00af00; text-decoration-color: #00af00\">20,200</span> │\n",
       "├─────────────────────────────────┼────────────────────────┼───────────────┤\n",
       "│ dropout (<span style=\"color: #0087ff; text-decoration-color: #0087ff\">Dropout</span>)               │ (<span style=\"color: #00d7ff; text-decoration-color: #00d7ff\">None</span>, <span style=\"color: #00af00; text-decoration-color: #00af00\">50</span>)             │             <span style=\"color: #00af00; text-decoration-color: #00af00\">0</span> │\n",
       "├─────────────────────────────────┼────────────────────────┼───────────────┤\n",
       "│ dense (<span style=\"color: #0087ff; text-decoration-color: #0087ff\">Dense</span>)                   │ (<span style=\"color: #00d7ff; text-decoration-color: #00d7ff\">None</span>, <span style=\"color: #00af00; text-decoration-color: #00af00\">50</span>)             │         <span style=\"color: #00af00; text-decoration-color: #00af00\">2,550</span> │\n",
       "├─────────────────────────────────┼────────────────────────┼───────────────┤\n",
       "│ dense_1 (<span style=\"color: #0087ff; text-decoration-color: #0087ff\">Dense</span>)                 │ (<span style=\"color: #00d7ff; text-decoration-color: #00d7ff\">None</span>, <span style=\"color: #00af00; text-decoration-color: #00af00\">25</span>)             │         <span style=\"color: #00af00; text-decoration-color: #00af00\">1,275</span> │\n",
       "├─────────────────────────────────┼────────────────────────┼───────────────┤\n",
       "│ dense_2 (<span style=\"color: #0087ff; text-decoration-color: #0087ff\">Dense</span>)                 │ (<span style=\"color: #00d7ff; text-decoration-color: #00d7ff\">None</span>, <span style=\"color: #00af00; text-decoration-color: #00af00\">1</span>)              │            <span style=\"color: #00af00; text-decoration-color: #00af00\">26</span> │\n",
       "└─────────────────────────────────┴────────────────────────┴───────────────┘\n",
       "</pre>\n"
      ],
      "text/plain": [
       "┏━━━━━━━━━━━━━━━━━━━━━━━━━━━━━━━━━┳━━━━━━━━━━━━━━━━━━━━━━━━┳━━━━━━━━━━━━━━━┓\n",
       "┃\u001b[1m \u001b[0m\u001b[1mLayer (type)                   \u001b[0m\u001b[1m \u001b[0m┃\u001b[1m \u001b[0m\u001b[1mOutput Shape          \u001b[0m\u001b[1m \u001b[0m┃\u001b[1m \u001b[0m\u001b[1m      Param #\u001b[0m\u001b[1m \u001b[0m┃\n",
       "┡━━━━━━━━━━━━━━━━━━━━━━━━━━━━━━━━━╇━━━━━━━━━━━━━━━━━━━━━━━━╇━━━━━━━━━━━━━━━┩\n",
       "│ lstm (\u001b[38;5;33mLSTM\u001b[0m)                     │ (\u001b[38;5;45mNone\u001b[0m, \u001b[38;5;34m60\u001b[0m, \u001b[38;5;34m50\u001b[0m)         │        \u001b[38;5;34m10,400\u001b[0m │\n",
       "├─────────────────────────────────┼────────────────────────┼───────────────┤\n",
       "│ lstm_1 (\u001b[38;5;33mLSTM\u001b[0m)                   │ (\u001b[38;5;45mNone\u001b[0m, \u001b[38;5;34m60\u001b[0m, \u001b[38;5;34m50\u001b[0m)         │        \u001b[38;5;34m20,200\u001b[0m │\n",
       "├─────────────────────────────────┼────────────────────────┼───────────────┤\n",
       "│ lstm_2 (\u001b[38;5;33mLSTM\u001b[0m)                   │ (\u001b[38;5;45mNone\u001b[0m, \u001b[38;5;34m60\u001b[0m, \u001b[38;5;34m50\u001b[0m)         │        \u001b[38;5;34m20,200\u001b[0m │\n",
       "├─────────────────────────────────┼────────────────────────┼───────────────┤\n",
       "│ lstm_3 (\u001b[38;5;33mLSTM\u001b[0m)                   │ (\u001b[38;5;45mNone\u001b[0m, \u001b[38;5;34m50\u001b[0m)             │        \u001b[38;5;34m20,200\u001b[0m │\n",
       "├─────────────────────────────────┼────────────────────────┼───────────────┤\n",
       "│ dropout (\u001b[38;5;33mDropout\u001b[0m)               │ (\u001b[38;5;45mNone\u001b[0m, \u001b[38;5;34m50\u001b[0m)             │             \u001b[38;5;34m0\u001b[0m │\n",
       "├─────────────────────────────────┼────────────────────────┼───────────────┤\n",
       "│ dense (\u001b[38;5;33mDense\u001b[0m)                   │ (\u001b[38;5;45mNone\u001b[0m, \u001b[38;5;34m50\u001b[0m)             │         \u001b[38;5;34m2,550\u001b[0m │\n",
       "├─────────────────────────────────┼────────────────────────┼───────────────┤\n",
       "│ dense_1 (\u001b[38;5;33mDense\u001b[0m)                 │ (\u001b[38;5;45mNone\u001b[0m, \u001b[38;5;34m25\u001b[0m)             │         \u001b[38;5;34m1,275\u001b[0m │\n",
       "├─────────────────────────────────┼────────────────────────┼───────────────┤\n",
       "│ dense_2 (\u001b[38;5;33mDense\u001b[0m)                 │ (\u001b[38;5;45mNone\u001b[0m, \u001b[38;5;34m1\u001b[0m)              │            \u001b[38;5;34m26\u001b[0m │\n",
       "└─────────────────────────────────┴────────────────────────┴───────────────┘\n"
      ]
     },
     "metadata": {},
     "output_type": "display_data"
    },
    {
     "data": {
      "text/html": [
       "<pre style=\"white-space:pre;overflow-x:auto;line-height:normal;font-family:Menlo,'DejaVu Sans Mono',consolas,'Courier New',monospace\"><span style=\"font-weight: bold\"> Total params: </span><span style=\"color: #00af00; text-decoration-color: #00af00\">149,704</span> (584.79 KB)\n",
       "</pre>\n"
      ],
      "text/plain": [
       "\u001b[1m Total params: \u001b[0m\u001b[38;5;34m149,704\u001b[0m (584.79 KB)\n"
      ]
     },
     "metadata": {},
     "output_type": "display_data"
    },
    {
     "data": {
      "text/html": [
       "<pre style=\"white-space:pre;overflow-x:auto;line-height:normal;font-family:Menlo,'DejaVu Sans Mono',consolas,'Courier New',monospace\"><span style=\"font-weight: bold\"> Trainable params: </span><span style=\"color: #00af00; text-decoration-color: #00af00\">74,851</span> (292.39 KB)\n",
       "</pre>\n"
      ],
      "text/plain": [
       "\u001b[1m Trainable params: \u001b[0m\u001b[38;5;34m74,851\u001b[0m (292.39 KB)\n"
      ]
     },
     "metadata": {},
     "output_type": "display_data"
    },
    {
     "data": {
      "text/html": [
       "<pre style=\"white-space:pre;overflow-x:auto;line-height:normal;font-family:Menlo,'DejaVu Sans Mono',consolas,'Courier New',monospace\"><span style=\"font-weight: bold\"> Non-trainable params: </span><span style=\"color: #00af00; text-decoration-color: #00af00\">0</span> (0.00 B)\n",
       "</pre>\n"
      ],
      "text/plain": [
       "\u001b[1m Non-trainable params: \u001b[0m\u001b[38;5;34m0\u001b[0m (0.00 B)\n"
      ]
     },
     "metadata": {},
     "output_type": "display_data"
    },
    {
     "data": {
      "text/html": [
       "<pre style=\"white-space:pre;overflow-x:auto;line-height:normal;font-family:Menlo,'DejaVu Sans Mono',consolas,'Courier New',monospace\"><span style=\"font-weight: bold\"> Optimizer params: </span><span style=\"color: #00af00; text-decoration-color: #00af00\">74,853</span> (292.40 KB)\n",
       "</pre>\n"
      ],
      "text/plain": [
       "\u001b[1m Optimizer params: \u001b[0m\u001b[38;5;34m74,853\u001b[0m (292.40 KB)\n"
      ]
     },
     "metadata": {},
     "output_type": "display_data"
    }
   ],
   "source": [
    "model.summary()"
   ]
  },
  {
   "cell_type": "code",
   "execution_count": null,
   "metadata": {},
   "outputs": [
    {
     "data": {
      "text/plain": [
       "dict_keys(['loss', 'mean_absolute_error', 'mean_squared_error', 'rmse', 'val_loss', 'val_mean_absolute_error', 'val_mean_squared_error', 'val_rmse'])"
      ]
     },
     "execution_count": 8,
     "metadata": {},
     "output_type": "execute_result"
    }
   ],
   "source": [
    "history.history.keys()"
   ]
  },
  {
   "cell_type": "code",
   "execution_count": null,
   "metadata": {},
   "outputs": [
    {
     "data": {
      "image/png": "[encoded data removed]",
      "text/plain": [
       "<Figure size 1000x400 with 2 Axes>"
      ]
     },
     "metadata": {},
     "output_type": "display_data"
    }
   ],
   "source": [
    "fig, (ax1, ax2) = plt.subplots(1, 2, figsize=(10, 4))\n",
    "\n",
    "# Plot training & validation MAE values\n",
    "ax1.plot(\n",
    "    range(num_epochs), history.history[\"mean_absolute_error\"], label=\"train_mae\"\n",
    ")\n",
    "ax1.plot(\n",
    "    range(num_epochs),\n",
    "    history.history[\"val_mean_absolute_error\"],\n",
    "    label=\"validation_mae\",\n",
    ")\n",
    "ax1.set_title(\"Training and validation MAE\")\n",
    "ax1.set_ylabel(\"MAE\")\n",
    "ax1.set_xlabel(\"Epochs\")\n",
    "ax1.legend()\n",
    "\n",
    "# Plot training & validation MSE values\n",
    "ax2.plot(\n",
    "    range(num_epochs), history.history[\"mean_squared_error\"], label=\"train_mse\"\n",
    ")\n",
    "ax2.plot(\n",
    "    range(num_epochs),\n",
    "    history.history[\"val_mean_squared_error\"],\n",
    "    label=\"validation_mse\",\n",
    ")\n",
    "ax2.set_title(\"Training and validation MSE\")\n",
    "ax2.set_ylabel(\"MSE\")\n",
    "ax2.set_xlabel(\"Epochs\")\n",
    "ax2.legend()\n",
    "\n",
    "fig.tight_layout()\n",
    "plt.show()"
   ]
  },
  {
   "cell_type": "code",
   "execution_count": null,
   "metadata": {},
   "outputs": [],
   "source": [
    "fig.savefig(f\"numEpochs_{num_epochs}-learningRate_{learn_rate}.png\")"
   ]
  }
 ],
 "metadata": {
  "colab": {
   "authorship_tag": "ABX9TyMIpl/szodrun6hRWeTbT/3",
   "provenance": []
  },
  "kernelspec": {
   "display_name": "cisc484",
   "language": "python",
   "name": "python3"
  },
  "language_info": {
   "codemirror_mode": {
    "name": "ipython",
    "version": 3
   },
   "file_extension": ".py",
   "mimetype": "text/x-python",
   "name": "python",
   "nbconvert_exporter": "python",
   "pygments_lexer": "ipython3",
   "version": "3.12.2"
  }
 },
 "nbformat": 4,
 "nbformat_minor": 1
}
